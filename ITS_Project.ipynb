{
  "nbformat": 4,
  "nbformat_minor": 0,
  "metadata": {
    "colab": {
      "provenance": []
    },
    "kernelspec": {
      "name": "python3",
      "display_name": "Python 3"
    },
    "language_info": {
      "name": "python"
    }
  },
  "cells": [
    {
      "cell_type": "code",
      "source": [
        "# Installing Necessary Libraries\n",
        "!pip install statsmodels\n",
        "!pip install statsmodels\n",
        "!pip install epipy\n",
        "!pip install seaborn\n",
        "!pip install pandas\n",
        "!pip install statsmodels epipy seaborn\n",
        "\n",
        "# Reading in Data\n",
        "import pandas as pd\n",
        "\n",
        "data = pd.read_csv(\"sicily.csv\")\n",
        "\n",
        "import pandas as pd\n",
        "import numpy as np\n",
        "import matplotlib.pyplot as plt\n",
        "import seaborn as sns\n",
        "from statsmodels.formula.api import glm\n",
        "import statsmodels.api as sm\n",
        "\n",
        "import pandas as pd\n",
        "import matplotlib.pyplot as plt\n",
        "import numpy as np\n",
        "\n",
        "# Assuming 'data' is your DataFrame and it has been loaded previously\n",
        "# Compute the standardized rates\n",
        "data['rate'] = data['aces'] / data['stdpop'] * 10**5\n",
        "\n",
        "# Plotting\n",
        "plt.figure(figsize=(10, 6))\n",
        "# Shade the post-intervention period\n",
        "plt.fill_betweenx(y=[0, 300], x1=36, x2=60, color='grey', alpha=0.5)\n",
        "# Scatter plot for pre-intervention period\n",
        "plt.scatter(np.where(data['smokban'] == 0)[0], data['rate'][data['smokban'] == 0], label='Pre-intervention')\n",
        "# Customizing the plot\n",
        "plt.ylim(150, 300)\n",
        "plt.ylabel('Std rate x 10,000')\n",
        "plt.xlabel('Year')\n",
        "plt.xticks(ticks=np.arange(0, 61, 12)[:4] + 6, labels=range(2002, 2006))\n",
        "plt.title('Sicily, 2002-2006')\n",
        "plt.legend()\n",
        "plt.show()\n",
        "\n"
      ],
      "metadata": {
        "colab": {
          "base_uri": "https://localhost:8080/",
          "height": 1000
        },
        "id": "558Da9OnpTdJ",
        "outputId": "43326a31-664a-4960-be03-353e7518c269"
      },
      "execution_count": 3,
      "outputs": [
        {
          "output_type": "stream",
          "name": "stdout",
          "text": [
            "Requirement already satisfied: statsmodels in /usr/local/lib/python3.10/dist-packages (0.14.1)\n",
            "Requirement already satisfied: numpy<2,>=1.18 in /usr/local/lib/python3.10/dist-packages (from statsmodels) (1.25.2)\n",
            "Requirement already satisfied: scipy!=1.9.2,>=1.4 in /usr/local/lib/python3.10/dist-packages (from statsmodels) (1.11.4)\n",
            "Requirement already satisfied: pandas!=2.1.0,>=1.0 in /usr/local/lib/python3.10/dist-packages (from statsmodels) (1.5.3)\n",
            "Requirement already satisfied: patsy>=0.5.4 in /usr/local/lib/python3.10/dist-packages (from statsmodels) (0.5.6)\n",
            "Requirement already satisfied: packaging>=21.3 in /usr/local/lib/python3.10/dist-packages (from statsmodels) (23.2)\n",
            "Requirement already satisfied: python-dateutil>=2.8.1 in /usr/local/lib/python3.10/dist-packages (from pandas!=2.1.0,>=1.0->statsmodels) (2.8.2)\n",
            "Requirement already satisfied: pytz>=2020.1 in /usr/local/lib/python3.10/dist-packages (from pandas!=2.1.0,>=1.0->statsmodels) (2023.4)\n",
            "Requirement already satisfied: six in /usr/local/lib/python3.10/dist-packages (from patsy>=0.5.4->statsmodels) (1.16.0)\n",
            "Requirement already satisfied: statsmodels in /usr/local/lib/python3.10/dist-packages (0.14.1)\n",
            "Requirement already satisfied: numpy<2,>=1.18 in /usr/local/lib/python3.10/dist-packages (from statsmodels) (1.25.2)\n",
            "Requirement already satisfied: scipy!=1.9.2,>=1.4 in /usr/local/lib/python3.10/dist-packages (from statsmodels) (1.11.4)\n",
            "Requirement already satisfied: pandas!=2.1.0,>=1.0 in /usr/local/lib/python3.10/dist-packages (from statsmodels) (1.5.3)\n",
            "Requirement already satisfied: patsy>=0.5.4 in /usr/local/lib/python3.10/dist-packages (from statsmodels) (0.5.6)\n",
            "Requirement already satisfied: packaging>=21.3 in /usr/local/lib/python3.10/dist-packages (from statsmodels) (23.2)\n",
            "Requirement already satisfied: python-dateutil>=2.8.1 in /usr/local/lib/python3.10/dist-packages (from pandas!=2.1.0,>=1.0->statsmodels) (2.8.2)\n",
            "Requirement already satisfied: pytz>=2020.1 in /usr/local/lib/python3.10/dist-packages (from pandas!=2.1.0,>=1.0->statsmodels) (2023.4)\n",
            "Requirement already satisfied: six in /usr/local/lib/python3.10/dist-packages (from patsy>=0.5.4->statsmodels) (1.16.0)\n",
            "Requirement already satisfied: epipy in /usr/local/lib/python3.10/dist-packages (0.0.2.1)\n",
            "Requirement already satisfied: Numpy>=1.6.2 in /usr/local/lib/python3.10/dist-packages (from epipy) (1.25.2)\n",
            "Requirement already satisfied: Matplotlib>=1.2.0 in /usr/local/lib/python3.10/dist-packages (from epipy) (3.7.1)\n",
            "Requirement already satisfied: Networkx>=1.6.0 in /usr/local/lib/python3.10/dist-packages (from epipy) (3.2.1)\n",
            "Requirement already satisfied: Pandas>=0.12.0 in /usr/local/lib/python3.10/dist-packages (from epipy) (1.5.3)\n",
            "Requirement already satisfied: Scipy>=0.13 in /usr/local/lib/python3.10/dist-packages (from epipy) (1.11.4)\n",
            "Requirement already satisfied: contourpy>=1.0.1 in /usr/local/lib/python3.10/dist-packages (from Matplotlib>=1.2.0->epipy) (1.2.0)\n",
            "Requirement already satisfied: cycler>=0.10 in /usr/local/lib/python3.10/dist-packages (from Matplotlib>=1.2.0->epipy) (0.12.1)\n",
            "Requirement already satisfied: fonttools>=4.22.0 in /usr/local/lib/python3.10/dist-packages (from Matplotlib>=1.2.0->epipy) (4.49.0)\n",
            "Requirement already satisfied: kiwisolver>=1.0.1 in /usr/local/lib/python3.10/dist-packages (from Matplotlib>=1.2.0->epipy) (1.4.5)\n",
            "Requirement already satisfied: packaging>=20.0 in /usr/local/lib/python3.10/dist-packages (from Matplotlib>=1.2.0->epipy) (23.2)\n",
            "Requirement already satisfied: pillow>=6.2.0 in /usr/local/lib/python3.10/dist-packages (from Matplotlib>=1.2.0->epipy) (9.4.0)\n",
            "Requirement already satisfied: pyparsing>=2.3.1 in /usr/local/lib/python3.10/dist-packages (from Matplotlib>=1.2.0->epipy) (3.1.1)\n",
            "Requirement already satisfied: python-dateutil>=2.7 in /usr/local/lib/python3.10/dist-packages (from Matplotlib>=1.2.0->epipy) (2.8.2)\n",
            "Requirement already satisfied: pytz>=2020.1 in /usr/local/lib/python3.10/dist-packages (from Pandas>=0.12.0->epipy) (2023.4)\n",
            "Requirement already satisfied: six>=1.5 in /usr/local/lib/python3.10/dist-packages (from python-dateutil>=2.7->Matplotlib>=1.2.0->epipy) (1.16.0)\n",
            "Requirement already satisfied: seaborn in /usr/local/lib/python3.10/dist-packages (0.13.1)\n",
            "Requirement already satisfied: numpy!=1.24.0,>=1.20 in /usr/local/lib/python3.10/dist-packages (from seaborn) (1.25.2)\n",
            "Requirement already satisfied: pandas>=1.2 in /usr/local/lib/python3.10/dist-packages (from seaborn) (1.5.3)\n",
            "Requirement already satisfied: matplotlib!=3.6.1,>=3.4 in /usr/local/lib/python3.10/dist-packages (from seaborn) (3.7.1)\n",
            "Requirement already satisfied: contourpy>=1.0.1 in /usr/local/lib/python3.10/dist-packages (from matplotlib!=3.6.1,>=3.4->seaborn) (1.2.0)\n",
            "Requirement already satisfied: cycler>=0.10 in /usr/local/lib/python3.10/dist-packages (from matplotlib!=3.6.1,>=3.4->seaborn) (0.12.1)\n",
            "Requirement already satisfied: fonttools>=4.22.0 in /usr/local/lib/python3.10/dist-packages (from matplotlib!=3.6.1,>=3.4->seaborn) (4.49.0)\n",
            "Requirement already satisfied: kiwisolver>=1.0.1 in /usr/local/lib/python3.10/dist-packages (from matplotlib!=3.6.1,>=3.4->seaborn) (1.4.5)\n",
            "Requirement already satisfied: packaging>=20.0 in /usr/local/lib/python3.10/dist-packages (from matplotlib!=3.6.1,>=3.4->seaborn) (23.2)\n",
            "Requirement already satisfied: pillow>=6.2.0 in /usr/local/lib/python3.10/dist-packages (from matplotlib!=3.6.1,>=3.4->seaborn) (9.4.0)\n",
            "Requirement already satisfied: pyparsing>=2.3.1 in /usr/local/lib/python3.10/dist-packages (from matplotlib!=3.6.1,>=3.4->seaborn) (3.1.1)\n",
            "Requirement already satisfied: python-dateutil>=2.7 in /usr/local/lib/python3.10/dist-packages (from matplotlib!=3.6.1,>=3.4->seaborn) (2.8.2)\n",
            "Requirement already satisfied: pytz>=2020.1 in /usr/local/lib/python3.10/dist-packages (from pandas>=1.2->seaborn) (2023.4)\n",
            "Requirement already satisfied: six>=1.5 in /usr/local/lib/python3.10/dist-packages (from python-dateutil>=2.7->matplotlib!=3.6.1,>=3.4->seaborn) (1.16.0)\n",
            "Requirement already satisfied: pandas in /usr/local/lib/python3.10/dist-packages (1.5.3)\n",
            "Requirement already satisfied: python-dateutil>=2.8.1 in /usr/local/lib/python3.10/dist-packages (from pandas) (2.8.2)\n",
            "Requirement already satisfied: pytz>=2020.1 in /usr/local/lib/python3.10/dist-packages (from pandas) (2023.4)\n",
            "Requirement already satisfied: numpy>=1.21.0 in /usr/local/lib/python3.10/dist-packages (from pandas) (1.25.2)\n",
            "Requirement already satisfied: six>=1.5 in /usr/local/lib/python3.10/dist-packages (from python-dateutil>=2.8.1->pandas) (1.16.0)\n",
            "Requirement already satisfied: statsmodels in /usr/local/lib/python3.10/dist-packages (0.14.1)\n",
            "Requirement already satisfied: epipy in /usr/local/lib/python3.10/dist-packages (0.0.2.1)\n",
            "Requirement already satisfied: seaborn in /usr/local/lib/python3.10/dist-packages (0.13.1)\n",
            "Requirement already satisfied: numpy<2,>=1.18 in /usr/local/lib/python3.10/dist-packages (from statsmodels) (1.25.2)\n",
            "Requirement already satisfied: scipy!=1.9.2,>=1.4 in /usr/local/lib/python3.10/dist-packages (from statsmodels) (1.11.4)\n",
            "Requirement already satisfied: pandas!=2.1.0,>=1.0 in /usr/local/lib/python3.10/dist-packages (from statsmodels) (1.5.3)\n",
            "Requirement already satisfied: patsy>=0.5.4 in /usr/local/lib/python3.10/dist-packages (from statsmodels) (0.5.6)\n",
            "Requirement already satisfied: packaging>=21.3 in /usr/local/lib/python3.10/dist-packages (from statsmodels) (23.2)\n",
            "Requirement already satisfied: Matplotlib>=1.2.0 in /usr/local/lib/python3.10/dist-packages (from epipy) (3.7.1)\n",
            "Requirement already satisfied: Networkx>=1.6.0 in /usr/local/lib/python3.10/dist-packages (from epipy) (3.2.1)\n",
            "Requirement already satisfied: contourpy>=1.0.1 in /usr/local/lib/python3.10/dist-packages (from Matplotlib>=1.2.0->epipy) (1.2.0)\n",
            "Requirement already satisfied: cycler>=0.10 in /usr/local/lib/python3.10/dist-packages (from Matplotlib>=1.2.0->epipy) (0.12.1)\n",
            "Requirement already satisfied: fonttools>=4.22.0 in /usr/local/lib/python3.10/dist-packages (from Matplotlib>=1.2.0->epipy) (4.49.0)\n",
            "Requirement already satisfied: kiwisolver>=1.0.1 in /usr/local/lib/python3.10/dist-packages (from Matplotlib>=1.2.0->epipy) (1.4.5)\n",
            "Requirement already satisfied: pillow>=6.2.0 in /usr/local/lib/python3.10/dist-packages (from Matplotlib>=1.2.0->epipy) (9.4.0)\n",
            "Requirement already satisfied: pyparsing>=2.3.1 in /usr/local/lib/python3.10/dist-packages (from Matplotlib>=1.2.0->epipy) (3.1.1)\n",
            "Requirement already satisfied: python-dateutil>=2.7 in /usr/local/lib/python3.10/dist-packages (from Matplotlib>=1.2.0->epipy) (2.8.2)\n",
            "Requirement already satisfied: pytz>=2020.1 in /usr/local/lib/python3.10/dist-packages (from pandas!=2.1.0,>=1.0->statsmodels) (2023.4)\n",
            "Requirement already satisfied: six in /usr/local/lib/python3.10/dist-packages (from patsy>=0.5.4->statsmodels) (1.16.0)\n"
          ]
        },
        {
          "output_type": "display_data",
          "data": {
            "text/plain": [
              "<Figure size 1000x600 with 1 Axes>"
            ],
            "image/png": "[encoded data removed]"
          },
          "metadata": {}
        }
      ]
    },
    {
      "cell_type": "code",
      "source": [
        "import pandas as pd\n",
        "\n",
        "# Assuming 'data' is your DataFrame and it has already been loaded\n",
        "\n",
        "# Producing summary statistics for the entire dataset\n",
        "print(data.describe())\n",
        "\n",
        "# Tabulate 'aces' before the smoking ban\n",
        "print(data[data['smokban'] == 0]['aces'].describe())\n",
        "\n",
        "# Tabulate 'aces' after the smoking ban\n",
        "print(data[data['smokban'] == 1]['aces'].describe())\n",
        "\n",
        "# Summary statistics for 'rate' before the smoking ban\n",
        "print(data[data['smokban'] == 0]['rate'].describe())\n",
        "\n",
        "# Summary statistics for 'rate' after the smoking ban\n",
        "print(data[data['smokban'] == 1]['rate'].describe())"
      ],
      "metadata": {
        "colab": {
          "base_uri": "https://localhost:8080/"
        },
        "id": "7QmWyywfptD6",
        "outputId": "1cc0f616-aaa5-4868-c914-b87967e6d1a9"
      },
      "execution_count": 4,
      "outputs": [
        {
          "output_type": "stream",
          "name": "stdout",
          "text": [
            "              year      month         aces       time    smokban  \\\n",
            "count    59.000000  59.000000    59.000000  59.000000  59.000000   \n",
            "mean   2003.966102   6.406780   829.050847  30.000000   0.389831   \n",
            "std       1.413800   3.434704    72.413902  17.175564   0.491898   \n",
            "min    2002.000000   1.000000   659.000000   1.000000   0.000000   \n",
            "25%    2003.000000   3.500000   766.500000  15.500000   0.000000   \n",
            "50%    2004.000000   6.000000   831.000000  30.000000   0.000000   \n",
            "75%    2005.000000   9.000000   878.000000  44.500000   1.000000   \n",
            "max    2006.000000  12.000000  1021.000000  59.000000   1.000000   \n",
            "\n",
            "                 pop         stdpop        rate  \n",
            "count      59.000000      59.000000   59.000000  \n",
            "mean   364121.210169  383464.362712  216.094242  \n",
            "std       481.269126    5245.773858   17.340253  \n",
            "min    363350.800000  374113.100000  175.035293  \n",
            "25%    363832.600000  379436.850000  201.350262  \n",
            "50%    364277.400000  383428.400000  215.411816  \n",
            "75%    364420.800000  387334.900000  227.735153  \n",
            "max    364700.400000  394005.600000  260.716175  \n",
            "count     36.000000\n",
            "mean     810.861111\n",
            "std       67.765205\n",
            "min      659.000000\n",
            "25%      759.250000\n",
            "50%      811.000000\n",
            "75%      858.500000\n",
            "max      937.000000\n",
            "Name: aces, dtype: float64\n",
            "count      23.000000\n",
            "mean      857.521739\n",
            "std        71.623936\n",
            "min       738.000000\n",
            "25%       815.000000\n",
            "50%       843.000000\n",
            "75%       898.000000\n",
            "max      1021.000000\n",
            "Name: aces, dtype: float64\n",
            "count     36.000000\n",
            "mean     213.271940\n",
            "std       16.810200\n",
            "min      175.035293\n",
            "25%      200.507941\n",
            "50%      213.106115\n",
            "75%      225.133086\n",
            "max      244.325877\n",
            "Name: rate, dtype: float64\n",
            "count     23.000000\n",
            "mean     220.511757\n",
            "std       17.598695\n",
            "min      190.936172\n",
            "25%      209.556841\n",
            "50%      217.865650\n",
            "75%      230.995959\n",
            "max      260.716175\n",
            "Name: rate, dtype: float64\n"
          ]
        }
      ]
    },
    {
      "cell_type": "code",
      "source": [
        "import statsmodels.api as sm\n",
        "import pandas as pd\n",
        "import numpy as np\n",
        "\n",
        "# Assuming 'data' is your DataFrame loaded with 'sicily.csv'\n",
        "# Adding an offset for the log of the standardized population\n",
        "data['log_stdpop'] = np.log(data['stdpop'])\n",
        "\n",
        "# Defining the model\n",
        "model = sm.GLM(data['aces'], sm.add_constant(data[['smokban', 'time']]),\n",
        "               family=sm.families.Poisson(), offset=data['log_stdpop'])\n",
        "\n",
        "result = model.fit()\n",
        "\n",
        "# Displaying the summary\n",
        "print(result.summary())"
      ],
      "metadata": {
        "colab": {
          "base_uri": "https://localhost:8080/"
        },
        "id": "-NmIGriVp6I5",
        "outputId": "156f2efd-89fa-46f2-f858-ad756cc86098"
      },
      "execution_count": 5,
      "outputs": [
        {
          "output_type": "stream",
          "name": "stdout",
          "text": [
            "                 Generalized Linear Model Regression Results                  \n",
            "==============================================================================\n",
            "Dep. Variable:                   aces   No. Observations:                   59\n",
            "Model:                            GLM   Df Residuals:                       56\n",
            "Model Family:                 Poisson   Df Model:                            2\n",
            "Link Function:                    Log   Scale:                          1.0000\n",
            "Method:                          IRLS   Log-Likelihood:                -351.02\n",
            "Date:                Mon, 26 Feb 2024   Deviance:                       197.31\n",
            "Time:                        18:22:46   Pearson chi2:                     199.\n",
            "No. Iterations:                     3   Pseudo R-squ. (CS):             0.8482\n",
            "Covariance Type:            nonrobust                                         \n",
            "==============================================================================\n",
            "                 coef    std err          z      P>|z|      [0.025      0.975]\n",
            "------------------------------------------------------------------------------\n",
            "const         -6.2432      0.011   -557.954      0.000      -6.265      -6.221\n",
            "smokban       -0.1116      0.017     -6.481      0.000      -0.145      -0.078\n",
            "time           0.0049      0.000      9.905      0.000       0.004       0.006\n",
            "==============================================================================\n"
          ]
        }
      ]
    },
    {
      "cell_type": "code",
      "source": [
        "import pandas as pd\n",
        "import numpy as np\n",
        "\n",
        "# Simulate an existing 'data' DataFrame\n",
        "np.random.seed(0)  # Seed for reproducibility\n",
        "data = pd.DataFrame({\n",
        "    'stdpop': np.random.normal(loc=500, scale=50, size=100)  # Simulated standard population data\n",
        "})\n",
        "\n",
        "# Creation of the 'datanew' DataFrame\n",
        "stdpop_column = np.repeat(data['stdpop'].mean(), 600)  # Repeat the mean of stdpop 600 times\n",
        "smokban_pattern = np.repeat([0, 1], [360, 240])  # Create a pattern for smokban\n",
        "smokban_column = np.tile(smokban_pattern, 1)  # Tile the pattern to match the required length\n",
        "time_column = np.linspace(1, 60, 600)  # Create a time column with 600 evenly spaced values between 1 and 60\n",
        "month_column = np.tile(np.arange(1, 13), 50)  # Repeat the sequence of months to match 600 rows\n",
        "\n",
        "# Ensure all columns are of the correct length\n",
        "assert len(stdpop_column) == 600\n",
        "assert len(smokban_column) == 600\n",
        "assert len(time_column) == 600\n",
        "assert len(month_column) == 600\n",
        "\n",
        "# Combine columns into the 'datanew' DataFrame\n",
        "datanew = pd.DataFrame({\n",
        "    'stdpop': stdpop_column,\n",
        "    'smokban': smokban_column,\n",
        "    'time': time_column,\n",
        "    'month': month_column\n",
        "})\n",
        "\n",
        "# Simulating predictions (assuming 'result' is a fitted model)\n",
        "# Since we don't have an actual model, let's simulate predictions as random values\n",
        "np.random.seed(0)  # Seed for reproducibility\n",
        "pred = np.random.rand(600)  # Simulated predictions\n",
        "\n",
        "# Assuming you want to adjust predictions somehow (e.g., scaling by the mean stdpop)\n",
        "pred_adjusted = pred / datanew['stdpop'].mean() * 10**5\n",
        "\n",
        "# Display the first few rows of 'datanew' and the first few adjusted predictions for verification\n",
        "print(datanew.head())\n",
        "print(pred_adjusted[:5])\n"
      ],
      "metadata": {
        "colab": {
          "base_uri": "https://localhost:8080/"
        },
        "id": "n-AUSvx0r6Ad",
        "outputId": "7f6d30ea-4af7-4f20-ca18-91c52c33097a"
      },
      "execution_count": 8,
      "outputs": [
        {
          "output_type": "stream",
          "name": "stdout",
          "text": [
            "       stdpop  smokban      time  month\n",
            "0  502.990401        0  1.000000      1\n",
            "1  502.990401        0  1.098497      2\n",
            "2  502.990401        0  1.196995      3\n",
            "3  502.990401        0  1.295492      4\n",
            "4  502.990401        0  1.393990      5\n",
            "[109.11013472 142.18747818 119.83596012 108.32874388  84.22721362]\n"
          ]
        }
      ]
    },
    {
      "cell_type": "code",
      "source": [
        "import pandas as pd\n",
        "import numpy as np\n",
        "\n",
        "# Simulated existing 'data' DataFrame\n",
        "np.random.seed(0)  # For reproducibility\n",
        "data = pd.DataFrame({\n",
        "    'stdpop': np.random.normal(loc=500, scale=50, size=100),  # Random standard population data\n",
        "})\n",
        "\n",
        "# Creation of 'datanew' DataFrame\n",
        "datanew = pd.DataFrame({\n",
        "    'stdpop': np.repeat(data['stdpop'].mean(), 600),  # Repeat mean stdpop 600 times\n",
        "    'smokban': np.tile(np.repeat([0, 1], [360, 240]), 1),  # Pattern for smokban\n",
        "    'time': np.linspace(1, 60, 600),  # Time from 1 to 60 in 600 steps\n",
        "    'month': np.tile(np.arange(1, 13), 50)  # Repeat months to match 600 rows\n",
        "})\n",
        "\n",
        "# Assuming the model was trained without the 'month' column\n",
        "datanew_adjusted = datanew.drop('month', axis=1)\n",
        "\n",
        "# Simulation of model prediction\n",
        "# This part should be replaced with your actual model's prediction, e.g.,\n",
        "# pred = result.predict(datanew_adjusted) / datanew_adjusted['stdpop'].mean() * 10**5\n",
        "np.random.seed(0)  # Simulating predictions with a fixed seed for reproducibility\n",
        "pred_simulated = np.random.rand(600) / datanew_adjusted['stdpop'].mean() * 10**5  # Simulated predictions\n",
        "\n",
        "# Display the first few rows of adjusted DataFrame and simulated predictions for verification\n",
        "print(datanew_adjusted.head())\n",
        "print(pred_simulated[:5])\n"
      ],
      "metadata": {
        "colab": {
          "base_uri": "https://localhost:8080/"
        },
        "id": "m1D-D75OyVFN",
        "outputId": "73b9d230-b9d9-41a2-b549-82f5dcc5b859"
      },
      "execution_count": 10,
      "outputs": [
        {
          "output_type": "stream",
          "name": "stdout",
          "text": [
            "       stdpop  smokban      time\n",
            "0  502.990401        0  1.000000\n",
            "1  502.990401        0  1.098497\n",
            "2  502.990401        0  1.196995\n",
            "3  502.990401        0  1.295492\n",
            "4  502.990401        0  1.393990\n",
            "[109.11013472 142.18747818 119.83596012 108.32874388  84.22721362]\n"
          ]
        }
      ]
    },
    {
      "cell_type": "code",
      "source": [
        "import pandas as pd\n",
        "import numpy as np\n",
        "\n",
        "# Simulate an existing 'data' DataFrame\n",
        "data = pd.DataFrame({\n",
        "    'stdpop': np.random.rand(100),  # Example standard population data\n",
        "    'feature1': np.random.rand(100),  # Example feature\n",
        "    'feature2': np.random.rand(100),  # Example feature\n",
        "    # Assume 'month' or any other column is not needed or was part of the initial DataFrame but not used for modeling\n",
        "})\n",
        "\n",
        "# Create 'datanew' DataFrame based on required structure for prediction\n",
        "datanew = pd.DataFrame({\n",
        "    'stdpop': np.repeat(data['stdpop'].mean(), 600),  # Repeat mean stdpop 600 times\n",
        "    'feature1': np.tile(np.repeat([0, 1], 300), 1),  # Simulate binary feature over 600 observations\n",
        "    'feature2': np.linspace(1, 60, 600),  # Simulate continuous feature over 600 observations\n",
        "    # 'month': np.tile(np.arange(1, 13), 50),  # Example if 'month' was initially considered but not used for modeling\n",
        "})\n",
        "\n",
        "# Assuming 'datanew' has an extra column that wasn't part of the model's training data\n",
        "# Adjust 'datanew' to only include columns that were part of your model's training dataset\n",
        "columns_for_model = ['stdpop', 'feature1', 'feature2']  # Specify the correct columns based on your model's training data\n",
        "datanew_adjusted = datanew[columns_for_model]\n",
        "\n",
        "# Example model prediction (replace with actual prediction code)\n",
        "# Let's simulate a model's predict method for demonstration purposes\n",
        "class SimulatedModel:\n",
        "    def predict(self, X):\n",
        "        # Simulating prediction by generating random values, replace with your model's prediction logic\n",
        "        return np.random.rand(len(X))\n",
        "\n",
        "# Instantiate and use the simulated model for prediction\n",
        "result = SimulatedModel()  # Replace with your actual model\n",
        "predictions = result.predict(datanew_adjusted)  # Use 'datanew_adjusted' for prediction\n",
        "\n",
        "# Example post-prediction adjustment, if necessary (e.g., scaling by mean stdpop)\n",
        "predictions_adjusted = predictions / datanew_adjusted['stdpop'].mean() * 10**5\n",
        "\n",
        "# Output the first few adjusted predictions\n",
        "print(predictions_adjusted[:5])\n"
      ],
      "metadata": {
        "colab": {
          "base_uri": "https://localhost:8080/"
        },
        "id": "DCVRcr7M0B2d",
        "outputId": "dd5353a0-b867-4858-a31e-cfc6c767bb0f"
      },
      "execution_count": 13,
      "outputs": [
        {
          "output_type": "stream",
          "name": "stdout",
          "text": [
            "[ 62440.42804631 190680.99124352 179768.63241258 174111.17970039\n",
            " 132155.23366649]\n"
          ]
        }
      ]
    },
    {
      "cell_type": "code",
      "source": [
        "import pandas as pd\n",
        "\n",
        "# Example DataFrame creation\n",
        "df = pd.DataFrame({\n",
        "    'rate': [1.5, 2.0, 2.5],  # Assuming 'rate' exists\n",
        "    'other_column': [10, 20, 30]\n",
        "})\n",
        "\n",
        "# Verify 'rate' column exists\n",
        "if 'rate' in df.columns:\n",
        "    print(\"'rate' column is present.\")\n",
        "else:\n",
        "    print(\"'rate' column is missing.\")\n"
      ],
      "metadata": {
        "colab": {
          "base_uri": "https://localhost:8080/"
        },
        "id": "7-MuwxXZ3AdH",
        "outputId": "11880f74-8c70-4b30-d54d-7021759e6596"
      },
      "execution_count": 17,
      "outputs": [
        {
          "output_type": "stream",
          "name": "stdout",
          "text": [
            "'rate' column is present.\n"
          ]
        }
      ]
    },
    {
      "cell_type": "code",
      "source": [
        "# Handling a potentially missing 'rate' column\n",
        "if 'rate' not in df.columns:\n",
        "    # Handle the missing column (e.g., by creating it, raising an error, etc.)\n",
        "    df['rate'] = 0  # Example: Defaulting 'rate' to 0\n",
        "    print(\"'rate' column was missing and has been added with default values.\")\n"
      ],
      "metadata": {
        "id": "q9gd8vck3DpC"
      },
      "execution_count": 18,
      "outputs": []
    },
    {
      "cell_type": "code",
      "source": [
        "# Example operation using the 'rate' column\n",
        "df['adjusted_rate'] = df['rate'] * 1.1  # Example adjustment\n",
        "print(df)\n"
      ],
      "metadata": {
        "colab": {
          "base_uri": "https://localhost:8080/"
        },
        "id": "h6j9fwsN3GNo",
        "outputId": "34ed16ce-93eb-4bb7-be2b-61e0eaa243bf"
      },
      "execution_count": 19,
      "outputs": [
        {
          "output_type": "stream",
          "name": "stdout",
          "text": [
            "   rate  other_column  adjusted_rate\n",
            "0   1.5            10           1.65\n",
            "1   2.0            20           2.20\n",
            "2   2.5            30           2.75\n"
          ]
        }
      ]
    },
    {
      "cell_type": "code",
      "source": [
        "import pandas as pd\n",
        "\n",
        "# Assume df is your DataFrame\n",
        "df = pd.DataFrame({\n",
        "    # 'rate': [1.5, 2.0, 2.5],  # Uncomment or ensure 'rate' is defined in your actual DataFrame\n",
        "    'other_column': [10, 20, 30]\n",
        "})\n",
        "\n",
        "# Verify and handle 'rate' column\n",
        "if 'rate' not in df.columns:\n",
        "    df['rate'] = 0  # Adding 'rate' with default values if missing\n",
        "    print(\"'rate' column was missing and has been added with default values.\")\n",
        "\n",
        "# Use the 'rate' column\n",
        "df['adjusted_rate'] = df['rate'] * 1.1\n",
        "\n",
        "# Print the updated DataFrame\n",
        "print(df)\n"
      ],
      "metadata": {
        "colab": {
          "base_uri": "https://localhost:8080/"
        },
        "id": "AW0OnMYj3Ixs",
        "outputId": "6e77e986-e27f-4990-a0ce-759a17049945"
      },
      "execution_count": 20,
      "outputs": [
        {
          "output_type": "stream",
          "name": "stdout",
          "text": [
            "'rate' column was missing and has been added with default values.\n",
            "   other_column  rate  adjusted_rate\n",
            "0            10     0            0.0\n",
            "1            20     0            0.0\n",
            "2            30     0            0.0\n"
          ]
        }
      ]
    },
    {
      "cell_type": "code",
      "source": [
        "import pandas as pd\n",
        "\n",
        "# Simulating a DataFrame (replace this with your actual DataFrame)\n",
        "data = pd.DataFrame({\n",
        "    'value': [100, 200, 300],  # Example data\n",
        "    # Note: The 'rate' column is intentionally omitted to simulate the error scenario\n",
        "})\n",
        "\n",
        "# Safety check before accessing the 'rate' column\n",
        "if 'rate' in data.columns:\n",
        "    # Proceed with operations involving the 'rate' column\n",
        "    adjusted_values = data['value'] * data['rate']  # Example operation\n",
        "else:\n",
        "    print(\"The 'rate' column does not exist in the DataFrame.\")\n",
        "\n",
        "# This approach prevents the KeyError from occurring by ensuring the column exists before attempting to access it.\n"
      ],
      "metadata": {
        "colab": {
          "base_uri": "https://localhost:8080/"
        },
        "id": "fM_LKA9a44DX",
        "outputId": "95fe8664-810c-4b47-86a8-62924727b39e"
      },
      "execution_count": 26,
      "outputs": [
        {
          "output_type": "stream",
          "name": "stdout",
          "text": [
            "The 'rate' column does not exist in the DataFrame.\n"
          ]
        }
      ]
    },
    {
      "cell_type": "code",
      "source": [
        "import matplotlib.pyplot as plt\n",
        "\n",
        "# Check if 'rate' column exists before plotting\n",
        "if 'rate' in data.columns:\n",
        "    plt.figure(figsize=(10, 6))\n",
        "    plt.plot(data['rate'], label='Rate')  # Example plotting command\n",
        "    plt.legend()\n",
        "    plt.show()\n",
        "else:\n",
        "    print(\"Cannot plot data. The 'rate' column does not exist.\")\n"
      ],
      "metadata": {
        "colab": {
          "base_uri": "https://localhost:8080/"
        },
        "id": "FH9Ee6qz45aU",
        "outputId": "58f5c03a-f2bb-45ca-bdfe-927c43a6f838"
      },
      "execution_count": 27,
      "outputs": [
        {
          "output_type": "stream",
          "name": "stdout",
          "text": [
            "Cannot plot data. The 'rate' column does not exist.\n"
          ]
        }
      ]
    },
    {
      "cell_type": "code",
      "source": [
        "\n",
        "\n",
        "\n",
        "# Assuming 'data' is your DataFrame and 'result' is the fitted model from before\n",
        "# Creating a new DataFrame for the counterfactual scenario\n",
        "datanew = pd.DataFrame({\n",
        "    'stdpop': data['stdpop'].mean(),\n",
        "    'smokban': np.tile(np.repeat([0, 1], [360, 240]), 5),  # Repeat [0,1] pattern with specified counts, 5 times for each month\n",
        "    'time': np.linspace(1, 60, 600) / 10,  #\n",
        "})\n",
        "\n",
        "# Generating predictions for the counterfactual scenario\n",
        "datanew['pred_counterfactual'] = result.predict(sm.add_constant(datanew[['smokban', 'time']])) / datanew['stdpop'].mean() * 10**5\n",
        "\n",
        "# Plotting the original and counterfactual scenarios\n",
        "plt.figure(figsize=(10, 6))\n",
        "plt.plot(datane['time'], datane['pred_counterfactual'], 'r--', label='Counterfactual Scenario')\n",
        "plt.scatter(data.index, data['rate'], label='Actual Data')\n",
        "plt.fill_betweenx([0, 300], 36, 60, color='grey', alpha=0.5)  # Highlight intervention period\n",
        "plt.xlabel('Time')\n",
        "plt.ylabel('Standardized Rate per 10,000')\n",
        "plt.title('Actual vs. Counterfactual Scenario')\n",
        "plt.legend()\n",
        "plt.show()\n",
        "\n",
        "from statsmodels.formula.api import glm\n",
        "import statsmodels.api as sm\n",
        "import matplotlib.pyplot as plt\n",
        "\n",
        "# Assuming 'data' is loaded and contains 'aces', 'smokban', 'time', 'stdpop'\n",
        "\n",
        "# Quasi-Poisson equivalent in Python using Negative Binomial\n",
        "model2 = glm(formula='aces ~ smokban + time', data=data,\n",
        "             family=sm.families.NegativeBinomial(),\n",
        "             offset=np.log(data['stdpop'])).fit()\n",
        "\n",
        "print(model2.summary())\n",
        "\n",
        "# Plotting residuals\n",
        "res2 = model2.resid_deviance\n",
        "plt.scatter(data['time'], res2)\n",
        "plt.axhline(0, color='black', linestyle='--')\n",
        "plt.title('Residuals over Time')\n",
        "plt.xlabel('Date')\n",
        "plt.ylabel('Deviance Residuals')\n",
        "plt.show()\n",
        "\n",
        "import numpy as np\n",
        "import statsmodels.api as sm\n",
        "from statsmodels.graphics.tsaplots import plot_acf, plot_pacf\n",
        "\n",
        "# Assuming residuals 'res2' from the previous model\n",
        "\n",
        "# Autocorrelation and Partial Autocorrelation plots\n",
        "plot_acf(res2)\n",
        "plot_pacf(res2)\n",
        "\n",
        "# Adjusting for seasonality with harmonic terms\n",
        "data['sin1'] = np.sin(2 * np.pi * data['month'] / 12)\n",
        "data['cos1'] = np.cos(2 * np.pi * data['month'] / 12)\n",
        "data['sin2'] = np.sin(4 * np.pi * data['month'] / 12)\n",
        "data['cos2'] = np.cos(4 * np.pi * data['month'] / 12)\n",
        "\n",
        "# Fit the model with harmonic terms\n",
        "model3 = sm.GLM(data['aces'], sm.add_constant(data[['smokban', 'time', 'sin1', 'cos1', 'sin2', 'cos2']]),\n",
        "                family=sm.families.NegativeBinomial(),\n",
        "                offset=np.log(data['stdpop'])).fit()\n",
        "\n",
        "print(model3.summary())\n",
        "\n",
        "# Plotting residuals of the new model to check for autocorrelation\n",
        "res3 = model3.resid_deviance\n",
        "plot_acf(res3)\n",
        "plot_pacf(res3)\n",
        "\n",
        "# Assuming 'model3' is your fitted model with seasonality adjustment, and 'datanew' is prepared as before\n",
        "\n",
        "# Generate predictions\n",
        "datanew['pred'] = model3.predict(sm.add_constant(datanew[['smokban', 'time', 'sin1', 'cos1', 'sin2', 'cos2']]))\n",
        "datanew['pred_adjusted'] = datanew['pred'] / datanew['stdpop'].mean() * 10**5\n",
        "\n",
        "# Plotting\n",
        "plt.figure(figsize=(10, 6))\n",
        "plt.plot(datanew['time'], datanew['pred_adjusted'], label='Predicted Rate')\n",
        "plt.scatter(range(len(data)), data['rate'], label='Actual Rate', alpha=0.7)\n",
        "plt.fill_betweenx([120, 300], 36, 60, color='grey', alpha=0.5)  # Highlight intervention period\n",
        "plt.xlabel('Time')\n",
        "plt.ylabel('Standardized Rate per 10,000')\n",
        "plt.title('Sicily, 2002-2006')\n",
        "plt.legend()\n",
        "plt.show()\n",
        "\n",
        "import statsmodels.formula.api as smf\n",
        "\n",
        "# Adding change-in-slope with interaction between smokban and time\n",
        "model4 = smf.glm(formula='aces ~ np.log(stdpop) + smokban * time + sin1 + cos1 + sin2 + cos2',\n",
        "                 data=data, family=sm.families.NegativeBinomial(), offset=np.log(data['stdpop'])).fit()\n",
        "\n",
        "print(model4.summary())\n",
        "\n",
        "# Predicting and plotting\n",
        "datanew['pred4b'] = model4.predict(datanew) / datanew['stdpop'].mean() * 10**5\n",
        "\n",
        "plt.figure(figsize=(10, 6))\n",
        "plt.plot(datanew['time'], datanew['pred4b'], 'r-', label='Model with Change-in-Slope')\n",
        "plt.scatter(data.index, data['rate'], label='Actual Data')\n",
        "plt.fill_betweenx([120, 300], 36, 60, color='grey', alpha=0.5)  # Highlight intervention period\n",
        "plt.xlabel('Time')\n",
        "plt.ylabel('Standardized Rate per 10,000')\n",
        "plt.title('Sicily, 2002-2006 with Change-in-Slope')\n",
        "plt.legend()\n",
        "plt.show()\n",
        "\n",
        "# To compare models, use anova or similar methods available in statsmodels, though direct F-test comparison may need manual calculation or alternative approach due to model differences.\n",
        "\n"
      ],
      "metadata": {
        "colab": {
          "base_uri": "https://localhost:8080/",
          "height": 507
        },
        "id": "c15LNHh0c9We",
        "outputId": "a19a5e19-ee12-4af9-8c6d-cc60c8453a11"
      },
      "execution_count": 28,
      "outputs": [
        {
          "output_type": "error",
          "ename": "KeyError",
          "evalue": "'rate'",
          "traceback": [
            "\u001b[0;31m---------------------------------------------------------------------------\u001b[0m",
            "\u001b[0;31mKeyError\u001b[0m                                  Traceback (most recent call last)",
            "\u001b[0;32m/usr/local/lib/python3.10/dist-packages/pandas/core/indexes/base.py\u001b[0m in \u001b[0;36mget_loc\u001b[0;34m(self, key, method, tolerance)\u001b[0m\n\u001b[1;32m   3801\u001b[0m             \u001b[0;32mtry\u001b[0m\u001b[0;34m:\u001b[0m\u001b[0;34m\u001b[0m\u001b[0;34m\u001b[0m\u001b[0m\n\u001b[0;32m-> 3802\u001b[0;31m                 \u001b[0;32mreturn\u001b[0m \u001b[0mself\u001b[0m\u001b[0;34m.\u001b[0m\u001b[0m_engine\u001b[0m\u001b[0;34m.\u001b[0m\u001b[0mget_loc\u001b[0m\u001b[0;34m(\u001b[0m\u001b[0mcasted_key\u001b[0m\u001b[0;34m)\u001b[0m\u001b[0;34m\u001b[0m\u001b[0;34m\u001b[0m\u001b[0m\n\u001b[0m\u001b[1;32m   3803\u001b[0m             \u001b[0;32mexcept\u001b[0m \u001b[0mKeyError\u001b[0m \u001b[0;32mas\u001b[0m \u001b[0merr\u001b[0m\u001b[0;34m:\u001b[0m\u001b[0;34m\u001b[0m\u001b[0;34m\u001b[0m\u001b[0m\n",
            "\u001b[0;32m/usr/local/lib/python3.10/dist-packages/pandas/_libs/index.pyx\u001b[0m in \u001b[0;36mpandas._libs.index.IndexEngine.get_loc\u001b[0;34m()\u001b[0m\n",
            "\u001b[0;32m/usr/local/lib/python3.10/dist-packages/pandas/_libs/index.pyx\u001b[0m in \u001b[0;36mpandas._libs.index.IndexEngine.get_loc\u001b[0;34m()\u001b[0m\n",
            "\u001b[0;32mpandas/_libs/hashtable_class_helper.pxi\u001b[0m in \u001b[0;36mpandas._libs.hashtable.PyObjectHashTable.get_item\u001b[0;34m()\u001b[0m\n",
            "\u001b[0;32mpandas/_libs/hashtable_class_helper.pxi\u001b[0m in \u001b[0;36mpandas._libs.hashtable.PyObjectHashTable.get_item\u001b[0;34m()\u001b[0m\n",
            "\u001b[0;31mKeyError\u001b[0m: 'rate'",
            "\nThe above exception was the direct cause of the following exception:\n",
            "\u001b[0;31mKeyError\u001b[0m                                  Traceback (most recent call last)",
            "\u001b[0;32m<ipython-input-28-c96886a957ed>\u001b[0m in \u001b[0;36m<cell line: 2>\u001b[0;34m()\u001b[0m\n\u001b[1;32m      1\u001b[0m \u001b[0mplt\u001b[0m\u001b[0;34m.\u001b[0m\u001b[0mfigure\u001b[0m\u001b[0;34m(\u001b[0m\u001b[0mfigsize\u001b[0m\u001b[0;34m=\u001b[0m\u001b[0;34m(\u001b[0m\u001b[0;36m10\u001b[0m\u001b[0;34m,\u001b[0m \u001b[0;36m6\u001b[0m\u001b[0;34m)\u001b[0m\u001b[0;34m)\u001b[0m\u001b[0;34m\u001b[0m\u001b[0;34m\u001b[0m\u001b[0m\n\u001b[0;32m----> 2\u001b[0;31m \u001b[0mplt\u001b[0m\u001b[0;34m.\u001b[0m\u001b[0mscatter\u001b[0m\u001b[0;34m(\u001b[0m\u001b[0mnp\u001b[0m\u001b[0;34m.\u001b[0m\u001b[0marange\u001b[0m\u001b[0;34m(\u001b[0m\u001b[0mlen\u001b[0m\u001b[0;34m(\u001b[0m\u001b[0mdata\u001b[0m\u001b[0;34m)\u001b[0m\u001b[0;34m)\u001b[0m\u001b[0;34m,\u001b[0m \u001b[0mdata\u001b[0m\u001b[0;34m[\u001b[0m\u001b[0;34m'rate'\u001b[0m\u001b[0;34m]\u001b[0m\u001b[0;34m,\u001b[0m \u001b[0mcolor\u001b[0m\u001b[0;34m=\u001b[0m\u001b[0;34m'blue'\u001b[0m\u001b[0;34m)\u001b[0m  \u001b[0;31m# Actual values\u001b[0m\u001b[0;34m\u001b[0m\u001b[0;34m\u001b[0m\u001b[0m\n\u001b[0m\u001b[1;32m      3\u001b[0m \u001b[0mplt\u001b[0m\u001b[0;34m.\u001b[0m\u001b[0mfill_betweenx\u001b[0m\u001b[0;34m(\u001b[0m\u001b[0;34m[\u001b[0m\u001b[0;36m0\u001b[0m\u001b[0;34m,\u001b[0m \u001b[0;36m300\u001b[0m\u001b[0;34m]\u001b[0m\u001b[0;34m,\u001b[0m \u001b[0;36m36\u001b[0m\u001b[0;34m,\u001b[0m \u001b[0;36m60\u001b[0m\u001b[0;34m,\u001b[0m \u001b[0mcolor\u001b[0m\u001b[0;34m=\u001b[0m\u001b[0;34m'grey'\u001b[0m\u001b[0;34m,\u001b[0m \u001b[0malpha\u001b[0m\u001b[0;34m=\u001b[0m\u001b[0;36m0.5\u001b[0m\u001b[0;34m)\u001b[0m  \u001b[0;31m# Highlight intervention period\u001b[0m\u001b[0;34m\u001b[0m\u001b[0;34m\u001b[0m\u001b[0m\n\u001b[1;32m      4\u001b[0m \u001b[0mplt\u001b[0m\u001b[0;34m.\u001b[0m\u001b[0mxlabel\u001b[0m\u001b[0;34m(\u001b[0m\u001b[0;34m'Time'\u001b[0m\u001b[0;34m)\u001b[0m\u001b[0;34m\u001b[0m\u001b[0;34m\u001b[0m\u001b[0m\n\u001b[1;32m      5\u001b[0m \u001b[0mplt\u001b[0m\u001b[0;34m.\u001b[0m\u001b[0mylabel\u001b[0m\u001b[0;34m(\u001b[0m\u001b[0;34m'Standardized Rate per 10,000'\u001b[0m\u001b[0;34m)\u001b[0m\u001b[0;34m\u001b[0m\u001b[0;34m\u001b[0m\u001b[0m\n",
            "\u001b[0;32m/usr/local/lib/python3.10/dist-packages/pandas/core/frame.py\u001b[0m in \u001b[0;36m__getitem__\u001b[0;34m(self, key)\u001b[0m\n\u001b[1;32m   3805\u001b[0m             \u001b[0;32mif\u001b[0m \u001b[0mself\u001b[0m\u001b[0;34m.\u001b[0m\u001b[0mcolumns\u001b[0m\u001b[0;34m.\u001b[0m\u001b[0mnlevels\u001b[0m \u001b[0;34m>\u001b[0m \u001b[0;36m1\u001b[0m\u001b[0;34m:\u001b[0m\u001b[0;34m\u001b[0m\u001b[0;34m\u001b[0m\u001b[0m\n\u001b[1;32m   3806\u001b[0m                 \u001b[0;32mreturn\u001b[0m \u001b[0mself\u001b[0m\u001b[0;34m.\u001b[0m\u001b[0m_getitem_multilevel\u001b[0m\u001b[0;34m(\u001b[0m\u001b[0mkey\u001b[0m\u001b[0;34m)\u001b[0m\u001b[0;34m\u001b[0m\u001b[0;34m\u001b[0m\u001b[0m\n\u001b[0;32m-> 3807\u001b[0;31m             \u001b[0mindexer\u001b[0m \u001b[0;34m=\u001b[0m \u001b[0mself\u001b[0m\u001b[0;34m.\u001b[0m\u001b[0mcolumns\u001b[0m\u001b[0;34m.\u001b[0m\u001b[0mget_loc\u001b[0m\u001b[0;34m(\u001b[0m\u001b[0mkey\u001b[0m\u001b[0;34m)\u001b[0m\u001b[0;34m\u001b[0m\u001b[0;34m\u001b[0m\u001b[0m\n\u001b[0m\u001b[1;32m   3808\u001b[0m             \u001b[0;32mif\u001b[0m \u001b[0mis_integer\u001b[0m\u001b[0;34m(\u001b[0m\u001b[0mindexer\u001b[0m\u001b[0;34m)\u001b[0m\u001b[0;34m:\u001b[0m\u001b[0;34m\u001b[0m\u001b[0;34m\u001b[0m\u001b[0m\n\u001b[1;32m   3809\u001b[0m                 \u001b[0mindexer\u001b[0m \u001b[0;34m=\u001b[0m \u001b[0;34m[\u001b[0m\u001b[0mindexer\u001b[0m\u001b[0;34m]\u001b[0m\u001b[0;34m\u001b[0m\u001b[0;34m\u001b[0m\u001b[0m\n",
            "\u001b[0;32m/usr/local/lib/python3.10/dist-packages/pandas/core/indexes/base.py\u001b[0m in \u001b[0;36mget_loc\u001b[0;34m(self, key, method, tolerance)\u001b[0m\n\u001b[1;32m   3802\u001b[0m                 \u001b[0;32mreturn\u001b[0m \u001b[0mself\u001b[0m\u001b[0;34m.\u001b[0m\u001b[0m_engine\u001b[0m\u001b[0;34m.\u001b[0m\u001b[0mget_loc\u001b[0m\u001b[0;34m(\u001b[0m\u001b[0mcasted_key\u001b[0m\u001b[0;34m)\u001b[0m\u001b[0;34m\u001b[0m\u001b[0;34m\u001b[0m\u001b[0m\n\u001b[1;32m   3803\u001b[0m             \u001b[0;32mexcept\u001b[0m \u001b[0mKeyError\u001b[0m \u001b[0;32mas\u001b[0m \u001b[0merr\u001b[0m\u001b[0;34m:\u001b[0m\u001b[0;34m\u001b[0m\u001b[0;34m\u001b[0m\u001b[0m\n\u001b[0;32m-> 3804\u001b[0;31m                 \u001b[0;32mraise\u001b[0m \u001b[0mKeyError\u001b[0m\u001b[0;34m(\u001b[0m\u001b[0mkey\u001b[0m\u001b[0;34m)\u001b[0m \u001b[0;32mfrom\u001b[0m \u001b[0merr\u001b[0m\u001b[0;34m\u001b[0m\u001b[0;34m\u001b[0m\u001b[0m\n\u001b[0m\u001b[1;32m   3805\u001b[0m             \u001b[0;32mexcept\u001b[0m \u001b[0mTypeError\u001b[0m\u001b[0;34m:\u001b[0m\u001b[0;34m\u001b[0m\u001b[0;34m\u001b[0m\u001b[0m\n\u001b[1;32m   3806\u001b[0m                 \u001b[0;31m# If we have a listlike key, _check_indexing_error will raise\u001b[0m\u001b[0;34m\u001b[0m\u001b[0;34m\u001b[0m\u001b[0m\n",
            "\u001b[0;31mKeyError\u001b[0m: 'rate'"
          ]
        },
        {
          "output_type": "display_data",
          "data": {
            "text/plain": [
              "<Figure size 1000x600 with 0 Axes>"
            ]
          },
          "metadata": {}
        }
      ]
    }
  ]
}